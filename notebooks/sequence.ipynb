{
 "cells": [
  {
   "cell_type": "code",
   "execution_count": 1,
   "metadata": {
    "collapsed": false
   },
   "outputs": [
    {
     "name": "stdout",
     "output_type": "stream",
     "text": [
      "Using matplotlib backend: MacOSX\n"
     ]
    }
   ],
   "source": [
    "%matplotlib auto\n",
    "import matplotlib.pyplot as plt\n",
    "from pprint import pprint"
   ]
  },
  {
   "cell_type": "code",
   "execution_count": 2,
   "metadata": {
    "collapsed": true,
    "scrolled": true
   },
   "outputs": [],
   "source": [
    "from landlab import load_params\n",
    "from sequence.sequence_model import SequenceModel"
   ]
  },
  {
   "cell_type": "code",
   "execution_count": 3,
   "metadata": {
    "collapsed": false
   },
   "outputs": [
    {
     "name": "stdout",
     "output_type": "stream",
     "text": [
      "{'bathymetry': {'filepath': 'bathymetry.csv', 'kind': 'linear'},\n",
      " 'clock': {'start': 0.0, 'step': 100.0, 'stop': 550000.0},\n",
      " 'flexure': {'method': 'airy', 'rho_mantle': 3300.0},\n",
      " 'grid': {'bc': {'bottom': 'closed', 'top': 'closed'},\n",
      "          'origin': 0.0,\n",
      "          'shape': [3, 1200],\n",
      "          'spacing': 250.0},\n",
      " 'sea_level': {'amplitude': 50.0,\n",
      "               'mean': 0.0,\n",
      "               'phase': 25000.0,\n",
      "               'wave_length': 100000.0},\n",
      " 'sediments': {'layers': '2,',\n",
      "               'mud_density': 2720.0,\n",
      "               'mud_size': '0.006,',\n",
      "               'sand_density': 2650.0,\n",
      "               'sand_frac': 0.5,\n",
      "               'sand_size': '1.,'},\n",
      " 'submarine_diffusion': {'alpha': 0.0005,\n",
      "                         'plain_slope': 0.0008,\n",
      "                         'sediment_load': 2.0,\n",
      "                         'shelf_slope': 0.001,\n",
      "                         'shoreface_height': 5.0,\n",
      "                         'wave_base': 30.0},\n",
      " 'subsidence': {'filepath': 'subsidence_marmara.csv'}}\n"
     ]
    }
   ],
   "source": [
    "params = load_params('marmara.yaml')\n",
    "pprint(params)"
   ]
  },
  {
   "cell_type": "code",
   "execution_count": 4,
   "metadata": {
    "collapsed": true,
    "scrolled": true
   },
   "outputs": [],
   "source": [
    "sequence = SequenceModel(**params)"
   ]
  },
  {
   "cell_type": "code",
   "execution_count": 5,
   "metadata": {
    "collapsed": false
   },
   "outputs": [
    {
     "name": "stderr",
     "output_type": "stream",
     "text": [
      "/Users/michael/Git/sequence-dev/landlab/landlab/layers/eventlayers.py:508: ComplexWarning: Casting complex values to real discards the imaginary part\n",
      "  self[name][-1] = kwds[name]\n",
      "/Users/michael/Git/sequence-dev/sequence/sequence/submarine.py:122: ComplexWarning: Casting complex values to real discards the imaginary part\n",
      "  / (water_depth[under_water] + b)\n"
     ]
    }
   ],
   "source": [
    "sequence.run(output='sequenceb5.nc')"
   ]
  },
  {
   "cell_type": "code",
   "execution_count": 6,
   "metadata": {
    "collapsed": true
   },
   "outputs": [],
   "source": [
    "layers_z = (sequence.grid.layers.z +\n",
    "            sequence.grid.at_node['bedrock_surface__elevation'][sequence.grid.node_at_cell])"
   ]
  },
  {
   "cell_type": "code",
   "execution_count": 7,
   "metadata": {
    "collapsed": true
   },
   "outputs": [],
   "source": [
    "_ = plt.plot(sequence.grid.x_of_node[sequence.grid.core_nodes], layers_z[::10,:].T)"
   ]
  },
  {
   "cell_type": "markdown",
   "metadata": {},
   "source": [
    "sequence.grid.at_grid['sea_level__elevation']"
   ]
  },
  {
   "cell_type": "code",
   "execution_count": null,
   "metadata": {
    "collapsed": true,
    "scrolled": false
   },
   "outputs": [],
   "source": [
    "import numpy as np\n",
    "np.set_printoptions(threshold=np.nan)\n",
    "print (layers_z[::10,:].T)"
   ]
  },
  {
   "cell_type": "code",
   "execution_count": null,
   "metadata": {
    "collapsed": true
   },
   "outputs": [],
   "source": [
    "import json\n",
    "f = open('workfile', 'w')\n",
    "json.dump(layers_z[::10,:].T,f)"
   ]
  },
  {
   "cell_type": "code",
   "execution_count": null,
   "metadata": {
    "collapsed": true
   },
   "outputs": [],
   "source": []
  }
 ],
 "metadata": {
  "kernelspec": {
   "display_name": "Python 2",
   "language": "python",
   "name": "python2"
  },
  "language_info": {
   "codemirror_mode": {
    "name": "ipython",
    "version": 2
   },
   "file_extension": ".py",
   "mimetype": "text/x-python",
   "name": "python",
   "nbconvert_exporter": "python",
   "pygments_lexer": "ipython2",
   "version": "2.7.13"
  }
 },
 "nbformat": 4,
 "nbformat_minor": 2
}
