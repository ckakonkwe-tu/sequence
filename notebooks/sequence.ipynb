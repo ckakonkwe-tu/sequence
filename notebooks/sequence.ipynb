{
 "cells": [
  {
   "cell_type": "code",
   "execution_count": 1,
   "metadata": {},
   "outputs": [
    {
     "name": "stdout",
     "output_type": "stream",
     "text": [
      "Using matplotlib backend: MacOSX\n"
     ]
    }
   ],
   "source": [
    "%matplotlib auto\n",
    "import matplotlib.pyplot as plt\n",
    "from pprint import pprint"
   ]
  },
  {
   "cell_type": "code",
   "execution_count": 2,
   "metadata": {
    "scrolled": true
   },
   "outputs": [],
   "source": [
    "from landlab import load_params\n",
    "from sequence.sequence_model import SequenceModel"
   ]
  },
  {
   "cell_type": "code",
   "execution_count": 3,
   "metadata": {},
   "outputs": [
    {
     "name": "stdout",
     "output_type": "stream",
     "text": [
      "{'clock': {'start': 0.0, 'step': 1000.0, 'stop': 2000000.0},\n",
      " 'flexure': {'method': 'airy', 'rho_mantle': 3300.0},\n",
      " 'grid': {'bc': {'bottom': 'closed', 'top': 'closed'},\n",
      "          'origin': 0.0,\n",
      "          'shape': [3, 1200],\n",
      "          'spacing': 250.0},\n",
      " 'sea_level': {'amplitude': 50.0,\n",
      "               'linear': -5e-05,\n",
      "               'mean': 0.0,\n",
      "               'phase': 500000.0,\n",
      "               'wave_length': 1000000.0},\n",
      " 'sediments': {'layers': '2,',\n",
      "               'mud_density': 2720.0,\n",
      "               'mud_size': '0.006,',\n",
      "               'sand_density': 2650.0,\n",
      "               'sand_frac': 0.5,\n",
      "               'sand_size': '1.,'},\n",
      " 'submarine_diffusion': {'alpha': 0.0005,\n",
      "                         'plain_slope': 0.0006,\n",
      "                         'sediment_load': 10.0,\n",
      "                         'shelf_slope': 0.001,\n",
      "                         'shoreface_height': 15.0,\n",
      "                         'wave_base': 60.0},\n",
      " 'subsidence': {'filepath': 'classicsubsidence.csv'}}\n"
     ]
    }
   ],
   "source": [
    "params = load_params('defaults.yaml')\n",
    "pprint(params)"
   ]
  },
  {
   "cell_type": "code",
   "execution_count": 4,
   "metadata": {
    "scrolled": true
   },
   "outputs": [],
   "source": [
    "sequence = SequenceModel(**params)"
   ]
  },
  {
   "cell_type": "code",
   "execution_count": 5,
   "metadata": {},
   "outputs": [
    {
     "name": "stderr",
     "output_type": "stream",
     "text": [
      "/Users/michael/Git/sequence-dev/sequence/sequence/submarine.py:122: ComplexWarning: Casting complex values to real discards the imaginary part\n",
      "  / (water_depth[under_water] + b)\n"
     ]
    }
   ],
   "source": [
    "sequence.run(output='sequenceb3b3.nc')"
   ]
  },
  {
   "cell_type": "code",
   "execution_count": 6,
   "metadata": {},
   "outputs": [],
   "source": [
    "layers_z = (sequence.grid.layers.z +\n",
    "            sequence.grid.at_node['bedrock_surface__elevation'][sequence.grid.node_at_cell])"
   ]
  },
  {
   "cell_type": "code",
   "execution_count": 7,
   "metadata": {},
   "outputs": [],
   "source": [
    "_ = plt.plot(sequence.grid.x_of_node[sequence.grid.core_nodes], layers_z[::20,:].T)"
   ]
  },
  {
   "cell_type": "markdown",
   "metadata": {},
   "source": [
    "sequence.grid.at_grid['sea_level__elevation']"
   ]
  },
  {
   "cell_type": "code",
   "execution_count": null,
   "metadata": {},
   "outputs": [],
   "source": [
    "sequence.grid.layers.z[0]"
   ]
  },
  {
   "cell_type": "code",
   "execution_count": 8,
   "metadata": {},
   "outputs": [],
   "source": [
    "_ = plt.plot(sequence.grid.x_of_node[sequence.grid.core_nodes], layers_z[::2,:].T)"
   ]
  },
  {
   "cell_type": "code",
   "execution_count": null,
   "metadata": {},
   "outputs": [],
   "source": []
  }
 ],
 "metadata": {
  "kernelspec": {
   "display_name": "Python 3",
   "language": "python",
   "name": "python3"
  },
  "language_info": {
   "codemirror_mode": {
    "name": "ipython",
    "version": 3
   },
   "file_extension": ".py",
   "mimetype": "text/x-python",
   "name": "python",
   "nbconvert_exporter": "python",
   "pygments_lexer": "ipython3",
   "version": "3.6.2"
  }
 },
 "nbformat": 4,
 "nbformat_minor": 2
}
